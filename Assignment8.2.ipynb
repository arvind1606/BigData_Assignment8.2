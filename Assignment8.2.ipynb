{
 "cells": [
  {
   "cell_type": "code",
   "execution_count": 6,
   "metadata": {},
   "outputs": [
    {
     "name": "stdout",
     "output_type": "stream",
     "text": [
      "We are able to calculate the affair with 74.254% accuracy by doing simple split of data set.\n",
      "We are able to calculate the affair with 72.371% accuracy by doing cross validation with 15 fold of data set.\n"
     ]
    }
   ],
   "source": [
    "import numpy as np\n",
    "import pandas as pd\n",
    "import statsmodels.api as sm\n",
    "import matplotlib.pyplot as plt\n",
    "from patsy import dmatrices\n",
    "from sklearn.linear_model import LogisticRegression\n",
    "from sklearn.cross_validation import train_test_split\n",
    "from sklearn import metrics\n",
    "from sklearn.cross_validation import cross_val_score\n",
    "dta = sm.datasets.fair.load_pandas().data\n",
    "\n",
    "# add \"affair\" column: 1 represents having affairs, 0 represents not\n",
    "dta['affair'] = (dta.affairs > 0).astype(int)\n",
    "\n",
    "# Create DF with a intercept coulmn and dummy variables for occupation and occupation_husb\n",
    "y, X = dmatrices('affair ~ rate_marriage + age + yrs_married + children + \\\n",
    "religious + educ + C(occupation) + C(occupation_husb)',\n",
    "dta, return_type=\"dataframe\")\n",
    "\n",
    "# Fix the column name\n",
    "X = X.rename(columns = {'C(occupation)[T.2.0]':'occ_2',\n",
    "'C(occupation)[T.3.0]':'occ_3',\n",
    "'C(occupation)[T.4.0]':'occ_4',\n",
    "'C(occupation)[T.5.0]':'occ_5',\n",
    "'C(occupation)[T.6.0]':'occ_6',\n",
    "'C(occupation_husb)[T.2.0]':'occ_husb_2',\n",
    "'C(occupation_husb)[T.3.0]':'occ_husb_3',\n",
    "'C(occupation_husb)[T.4.0]':'occ_husb_4',\n",
    "'C(occupation_husb)[T.5.0]':'occ_husb_5',\n",
    "'C(occupation_husb)[T.6.0]':'occ_husb_6'})\n",
    "\n",
    "# Flatten y into 1-D array\n",
    "y = np.ravel(y)\n",
    "\n",
    "#Split the whole data in train and test in ratio 80:20\n",
    "X_train, X_test, y_train, y_test = train_test_split(X, y, test_size=0.2, random_state=0)\n",
    "\n",
    "# Lets apply Logistic regression and see the accuracy\n",
    "regression = LogisticRegression()\n",
    "regression.fit(X_train,y_train)\n",
    "\n",
    "y_prd = regression.predict(X_test)\n",
    "\n",
    "\n",
    "# Check the accuracy\n",
    "acc = regression.score(X_test,y_test)\n",
    "\n",
    "print(\"We are able to calculate the affair with {:.5}% accuracy by doing simple split of data set.\" \\\n",
    "              .format(acc*100))\n",
    "\n",
    "# Let's try to do the same with cross validation of 15 folds\n",
    "crs_vl = cross_val_score(LogisticRegression(), X, y, scoring='accuracy', cv=15)\n",
    "\n",
    "print(\"We are able to calculate the affair with {:.5}% accuracy by doing cross validation with 15 fold of data set.\" \\\n",
    "              .format(crs_vl.mean() * 100))\n",
    "\n"
   ]
  }
 ],
 "metadata": {
  "kernelspec": {
   "display_name": "Python 3",
   "language": "python",
   "name": "python3"
  },
  "language_info": {
   "codemirror_mode": {
    "name": "ipython",
    "version": 3
   },
   "file_extension": ".py",
   "mimetype": "text/x-python",
   "name": "python",
   "nbconvert_exporter": "python",
   "pygments_lexer": "ipython3",
   "version": "3.5.5"
  }
 },
 "nbformat": 4,
 "nbformat_minor": 2
}
